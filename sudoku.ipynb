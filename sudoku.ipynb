{
 "cells": [
  {
   "cell_type": "markdown",
   "metadata": {},
   "source": [
    "Copyright **`(c)`** 2021 Giovanni Squillero `<squillero@polito.it>`  \n",
    "`https://github.com/squillero/computational-intelligence`  \n",
    "Free for personal or classroom use; see 'LICENCE.md' for details."
   ]
  },
  {
   "cell_type": "code",
   "execution_count": 1,
   "metadata": {},
   "outputs": [],
   "source": [
    "import logging\n",
    "from pprint import pprint\n",
    "import numpy as np\n",
    "from random import choice\n",
    "\n",
    "logging.basicConfig(format='[%(asctime)s] %(levelname)s: %(message)s', datefmt='%H:%M:%S', level=logging.INFO)"
   ]
  },
  {
   "cell_type": "markdown",
   "metadata": {},
   "source": [
    "# Solving sudoku with the A* algorithm\n",
    "\n",
    "\n",
    "## Search algorithms\n",
    "\n",
    "The A* algorithm is an informed search algorithm. Search algorithms take a problem as input, consisting of a goal to be achieved and a set of possible actions to be applied. They return a solution in the form of an action sequence, also known as a plan. More concretely, such algorithms solve problems starting in the initial state and for each state  explored, they check whether this is the goal state. The exploration of the nodes is done following the order given by the agenda, which is organised differently in every search algorithm. If the goal state is reached, the algorithm has finished its execution. If not, other states are considered by applying the operators to the present state. This phase is called the expansion of the state wich fills the agenda with reachable states to be explored. If at some point the agenda is empty but the goal state has not been reached yet, no solution exists for the problem. \n",
    "\n",
    "Below are functions (provided by professor Squillero except the \"valid_sudoku\" one) that will allow the algorithm, on one hand, to verify if a node is valid before trying to expand it, and, on the other hand, to check if the goal state has been reached."
   ]
  },
  {
   "cell_type": "code",
   "execution_count": 2,
   "metadata": {},
   "outputs": [],
   "source": [
    "def _contains_duplicates(X):\n",
    "    return np.sum(np.unique(X)) != np.sum(X)\n",
    "\n",
    "def contains_duplicates(sol):\n",
    "    return any(_contains_duplicates(sol[r,:]) for r in range(9)) or \\\n",
    "           any(_contains_duplicates(sol[:,r]) for r in range(9)) or \\\n",
    "           any(_contains_duplicates(sol[r:r+3:,c:c+3]) for r in range(0,9,3) for c in range(0,9,3))\n",
    "\n",
    "def valid_solution(sol):\n",
    "    return not contains_duplicates(sol) and np.sum(sol) == (1+2+3+4+5+6+7+8+9) * 9\n",
    "\n",
    "def valid_sudoku(sudoku, pos, num):\n",
    "    \"\"\"\n",
    "    Determines if add the number num at position pos will yield a valid solution\n",
    "    \"\"\"\n",
    "    sudoku[pos[0]][pos[1]] = num\n",
    "    valid = not contains_duplicates(sudoku)\n",
    "    sudoku[pos[0]][pos[1]] = 0\n",
    "    return valid\n",
    "\n",
    "def print_sudoku(sudoku):\n",
    "    print(\"+-------+-------+-------+\")\n",
    "    for b in range(0, 9, 3):\n",
    "        for r in range(3):\n",
    "            print(\"|\", \" | \".join(\" \".join(str(_) for _ in sudoku[b+r, c:c+3]) for c in range(0, 9, 3)), \"|\")\n",
    "        print(\"+-------+-------+-------+\")"
   ]
  },
  {
   "cell_type": "markdown",
   "metadata": {},
   "source": [
    "## Informed search algorithms\n",
    "\n",
    "For informed search methods, specific information about the state is used to generate more efficiently a solution. In the A* algoritm, the nodes to explore in its agenda will be sorted using a cost function (representing the \"cost so far\") and a admissible heuristic (representing the \"estimated cost remaining\"). \n",
    "\n",
    "In this implementation, a small crossed confiugration has been chosen for the heuristic meaning that the heuristic value of a cell is equal to the sum of the remaining possibilities for the row, the column and the square the cell belongs to. This is implemented mainly in the \"small_cross_heuristics\" function below with the support of the \"reduce_possibilities\" function representing the number of possibilities each cell has left regarding the numbers already present in the row, column and square of the cell."
   ]
  },
  {
   "cell_type": "code",
   "execution_count": 3,
   "metadata": {},
   "outputs": [],
   "source": [
    "def reduce_possibilities(sudoku, poss):\n",
    "    \"\"\"\n",
    "    Reduces the number of possibilities for each cell. If a number is not possible, puts a \"-1\" instead.\n",
    "    \"\"\"\n",
    "    for i in range(9):\n",
    "        for j in range(9):\n",
    "            if sudoku[i][j] == 0:\n",
    "                poss[i][j] = np.array([p if valid_sudoku(sudoku, (i, j), p) else -1 for p in range(1, 10)])\n",
    "    return poss\n",
    "\n",
    "\n",
    "def small_crossed_heuristics(i, j, poss, minimal):\n",
    "    \"\"\"\n",
    "    Returns the total number of possibilities that cell (i,j) is linked to (row, column, square)\n",
    "    \"\"\"\n",
    "    # Possibilities of the cell\n",
    "    total = len(poss[i][j][poss[i][j] >= 1]) + 1\n",
    "    \n",
    "    # If total < 3, interesting possibilities that we do not want to lose\n",
    "    if 3 < total <= minimal: \n",
    "        total -= 1\n",
    "        for k in range(9):\n",
    "            if total <= minimal and k != j:\n",
    "                # Row\n",
    "                total += len(poss[i][k][poss[i][k] >= 1])\n",
    "        for k in range(9):\n",
    "            if total <= minimal and k != i:\n",
    "                # Columns\n",
    "                total += len(poss[k][j][poss[k][j] >= 1])\n",
    "        # Get the first row of the square linked to (i,j)\n",
    "        start_row = i - i % 3\n",
    "        # Get the first column of the square linked to (i,j)\n",
    "        start_column = j - j % 3\n",
    "        # Square\n",
    "        for k in range(3):\n",
    "            for l in range(3):\n",
    "                if total <= minimal and (k != i or l != j):\n",
    "                    total += len(poss[start_row + k][start_column + l][\n",
    "                                     poss[start_row + k][start_column + l] >= 1])\n",
    "    return total\n",
    "\n",
    "\n",
    "def update_heuristics(sudoku, h, poss):\n",
    "    \"\"\"\n",
    "    Updates the heuristics matrix\n",
    "    \"\"\"\n",
    "    minimal = 10000000000  # An enough high value\n",
    "    for i in range(9):\n",
    "        for j in range(9):\n",
    "            if sudoku[i][j] == 0:\n",
    "                h[i][j] = small_crossed_heuristics(i, j, poss, minimal)\n",
    "                if h[i][j] < minimal:\n",
    "                    minimal = h[i][j]\n",
    "            else:\n",
    "                h[i][j] = 0\n",
    "    return h\n",
    "\n",
    "\n",
    "def get_cell_to_explore(h):\n",
    "    \"\"\"\n",
    "    Returns the best cell to explore according to the heuristics matrix\n",
    "    np.amin : Takes all the minimum elements in the heuristic array, where the values are > 0\n",
    "    np.where : Takes the coordinates (i, j) of all the minimum elements\n",
    "    np.dstack : Unzip the result of np.where to have the coordinates in the good format\n",
    "    Finally get a random cell from all the best cells\n",
    "    \"\"\"\n",
    "    cell = choice(np.dstack(np.where(h == np.amin(h[h > 0])))[0])\n",
    "    return cell"
   ]
  },
  {
   "cell_type": "markdown",
   "metadata": {},
   "source": [
    "## Resolution\n",
    "\n",
    "Below is the recursive function that will actually solve the sudoku problem using the A* algorithm."
   ]
  },
  {
   "cell_type": "code",
   "execution_count": 4,
   "metadata": {},
   "outputs": [],
   "source": [
    "def dfsolveAStar(sudoku, poss, h, a=-1, b=-1):\n",
    "    \"\"\"\n",
    "    Implements the A* algorithm on the base of the heuristics matrix\n",
    "    Fills the solution matrix by backtracking in the order given by the heuristics matrix\n",
    "    \"\"\"\n",
    "    global num_nodes\n",
    "    \n",
    "    # Iterate until a valid solution is found\n",
    "    if not valid_solution(sudoku):\n",
    "        \n",
    "        # Compute the heursitic function and chose the next node to expand\n",
    "        poss = reduce_possibilities(sudoku, poss)\n",
    "        h = update_heuristics(sudoku, h, poss)\n",
    "        cell = get_cell_to_explore(h)\n",
    "\n",
    "        # Try the possible numbers for the cell\n",
    "        for number in poss[cell[0]][cell[1]][poss[cell[0]][cell[1]] > 0]:\n",
    "            sudoku[cell[0]][cell[1]] = number\n",
    "            num_nodes += 1\n",
    "            # And from there try to solve the sudoku (recur)\n",
    "            if dfsolveAStar(sudoku, poss, h, cell[0], cell[1]):\n",
    "                return True\n",
    "            \n",
    "        # If expanding this node led to a wrong state, reset the cell to zero\n",
    "        sudoku[cell[0]][cell[1]] = 0\n",
    "        return False\n",
    "    \n",
    "    logging.info(f\"Solved after expanding {num_nodes:,} nodes\")\n",
    "    return True"
   ]
  },
  {
   "cell_type": "code",
   "execution_count": 5,
   "metadata": {},
   "outputs": [],
   "source": [
    "def sudoku_generator(sudokus=1, *, kappa=5, random_seed=None):\n",
    "    if random_seed:\n",
    "        np.random.seed(random_seed)\n",
    "    for puzzle in range(sudokus):\n",
    "        sudoku = np.zeros((9, 9), dtype=np.int8)\n",
    "        for cell in range(np.random.randint(kappa)):\n",
    "            for p, val in zip(np.random.randint(0, 8, size=(9, 2)), range(1, 10)):\n",
    "                tmp = sudoku.copy()\n",
    "                sudoku[tuple(p)] = val\n",
    "                if contains_duplicates(sudoku):\n",
    "                    sudoku = tmp\n",
    "        yield sudoku.copy()"
   ]
  },
  {
   "cell_type": "code",
   "execution_count": 7,
   "metadata": {},
   "outputs": [
    {
     "name": "stdout",
     "output_type": "stream",
     "text": [
      "+-------+-------+-------+\n",
      "| 0 0 1 | 0 0 0 | 0 0 0 |\n",
      "| 0 0 0 | 0 0 0 | 0 3 0 |\n",
      "| 0 0 6 | 8 0 0 | 5 2 0 |\n",
      "+-------+-------+-------+\n",
      "| 9 7 0 | 4 0 0 | 0 8 0 |\n",
      "| 6 0 0 | 0 3 0 | 1 0 0 |\n",
      "| 0 0 0 | 0 8 6 | 0 0 0 |\n",
      "+-------+-------+-------+\n",
      "| 0 4 0 | 9 0 0 | 0 0 0 |\n",
      "| 0 0 9 | 5 7 0 | 0 0 0 |\n",
      "| 0 0 0 | 0 0 0 | 0 0 0 |\n",
      "+-------+-------+-------+\n"
     ]
    },
    {
     "name": "stderr",
     "output_type": "stream",
     "text": [
      "[14:30:35] INFO: Solved after expanding 63 nodes\n"
     ]
    },
    {
     "name": "stdout",
     "output_type": "stream",
     "text": [
      "+-------+-------+-------+\n",
      "| 2 9 1 | 3 5 7 | 8 4 6 |\n",
      "| 4 8 5 | 6 9 2 | 7 3 1 |\n",
      "| 7 3 6 | 8 4 1 | 5 2 9 |\n",
      "+-------+-------+-------+\n",
      "| 9 7 2 | 4 1 5 | 6 8 3 |\n",
      "| 6 5 8 | 2 3 9 | 1 7 4 |\n",
      "| 3 1 4 | 7 8 6 | 9 5 2 |\n",
      "+-------+-------+-------+\n",
      "| 5 4 3 | 9 6 8 | 2 1 7 |\n",
      "| 1 2 9 | 5 7 3 | 4 6 8 |\n",
      "| 8 6 7 | 1 2 4 | 3 9 5 |\n",
      "+-------+-------+-------+\n"
     ]
    }
   ],
   "source": [
    "num_nodes = 0\n",
    "\n",
    "for sudoku in sudoku_generator(random_seed=42):\n",
    "    print_sudoku(sudoku)\n",
    "    \n",
    "    # Number of possibilities each cell could contain\n",
    "    possibilities = np.array([[list(range(1, 10)) for _ in range(9)] for _ in range(9)])\n",
    "    # Heuristic associated to each state\n",
    "    heuristics = np.array([[0 for _ in range(9)] for _ in range(9)])\n",
    "    \n",
    "    if dfsolveAStar(sudoku, possibilities, heuristics):\n",
    "        print_sudoku(sudoku)"
   ]
  },
  {
   "cell_type": "code",
   "execution_count": null,
   "metadata": {},
   "outputs": [],
   "source": []
  }
 ],
 "metadata": {
  "interpreter": {
   "hash": "371627151b0642f6c185c280fa16312776bda89bbb063ce0f2d8135c657194f4"
  },
  "kernelspec": {
   "display_name": "Python 3",
   "language": "python",
   "name": "python3"
  },
  "language_info": {
   "codemirror_mode": {
    "name": "ipython",
    "version": 3
   },
   "file_extension": ".py",
   "mimetype": "text/x-python",
   "name": "python",
   "nbconvert_exporter": "python",
   "pygments_lexer": "ipython3",
   "version": "3.8.8"
  }
 },
 "nbformat": 4,
 "nbformat_minor": 2
}
